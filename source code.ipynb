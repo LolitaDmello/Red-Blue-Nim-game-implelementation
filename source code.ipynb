{
  "nbformat": 4,
  "nbformat_minor": 0,
  "metadata": {
    "colab": {
      "provenance": []
    },
    "kernelspec": {
      "name": "python3",
      "display_name": "Python 3"
    },
    "language_info": {
      "name": "python"
    }
  },
  "cells": [
    {
      "cell_type": "code",
      "source": [
        "import math\n",
        "\n",
        "def calculate_score(state):\n",
        "  # Calculates the score of the game given the final state and the winner.\n",
        "    return 2*state['red'] + 3*state['blue']   #2 points each for red marble remaining & 3 points each for blue marble remaining\n",
        "\n",
        "\n",
        "# returns the new game state that results from applying that move to the original state.\n",
        "def apply_move(state, move):\n",
        "    color, amount = move # which marble,amount(1)\n",
        "    new_state = state.copy() #This function creates a copy of the original state using the copy() method, so that the original state is not modified\n",
        "    new_state[color] -= amount  #It subtracts the amount of marbles moved by the player (specified by 'amount'(1)) from the corresponding color (specified by 'color') in the state\n",
        "    return new_state #new state after applying the move.\n",
        "\n",
        "def game_over(state):\n",
        "    return state['red'] == 0 or state['blue'] == 0 # the code is checking if either the red or blue pile is empty, which indicates the game has ended.\n",
        "\n",
        "def get_possible_moves(state):\n",
        "  # In this game, there are only two possible moves: removing a marble from the red pile or removing a marble from the blue pile\n",
        "    if state['red'] > 0:\n",
        "        yield ('red', 1) # which marble,amount\n",
        "    if state['blue'] > 0:\n",
        "        yield ('blue', 1)\n",
        "\n",
        "#Our Max player is computer(First player)\n",
        "def red_blue_nim(state, alpha, beta, max_player='Computer'):\n",
        "    if game_over(state):\n",
        "# function returns negative infinity if the computer is the maximum player, otherwise it returns positive infinity. None, indicating that no move is available when the game is over.\n",
        "        return -math.inf if max_player else math.inf, None\n",
        "\n",
        "# If the game is not over, the function proceeds with initializing the best_move variable to None, which will be updated later to hold the best move found by the function.\n",
        "    best_move = None\n",
        "    \n",
        "    # we start a loop over all the possible moves that can be made from the current state\n",
        "    for move in get_possible_moves(state):\n",
        "        new_state = apply_move(state, move)\n",
        "        # recursively calls the minimax function with the new state, swapping the max_player parameter to get the score for the opposing playe\n",
        "        eval, _ = red_blue_nim(new_state, alpha, beta, not max_player)  #We store the returned score in the eval variable.\n",
        "      \n",
        "        if max_player: #if the current player is the max player\n",
        "            if eval > alpha:# we check if the returned eval score is greater than the current alpha value.\n",
        "                alpha = eval # If it is, we update the alpha value to the eval score\n",
        "                best_move = move #and set the best_move variable to the current move being considered\n",
        "                 \n",
        "        else: #if the current player is the min player\n",
        "            if eval < beta: # we check if the returned eval score is less than the current beta value.\n",
        "                beta = eval # If it is, we update the beta value to the eval score\n",
        "                best_move = move #and set the best_move variable to the current move being considered.\n",
        "\n",
        "        if beta <= alpha:\n",
        "            break #since we have found the optimal move for the current player.\n",
        "    \n",
        "    if max_player: #If the current player is the max player,\n",
        "        return alpha, best_move # we return alpha and the best_move\n",
        "    else:\n",
        "        return beta, best_move #if the current player is the min player, we return beta and the best_move.\n",
        "    \n",
        "\n",
        "# This is a function that allows a human player to play against the computer in a game of Red-Blue Nim.\n",
        "def play_game():\n",
        "  # Initialize the game state\n",
        "    state = {'red': 5, 'blue': 6}\n",
        "    print(\"Starting state:\", state)\n",
        "\n",
        "    while not game_over(state):\n",
        "        _, computer_move = red_blue_nim(state, -math.inf, math.inf, True) #Computer is the max player here\n",
        "        print(\"Computer's move:\", computer_move)\n",
        "        state = apply_move(state, computer_move) #after the move is made\n",
        "        print(\"Current state:\", state) #print the state after the move is applied\n",
        "        \n",
        "        if game_over(state):\n",
        "            break #if the game is over then exit.\n",
        "        \n",
        "        valid_human_move = False #\n",
        "        while not valid_human_move:\n",
        "            human_move_color = input(\"Which pile do you want to take a marble from? (red or blue)\") #ask the human player to make a move\n",
        "            #exception handling if the human player enter anything wrong\n",
        "            if human_move_color not in state:\n",
        "                print(\"Invalid input, please try again.\")\n",
        "                continue\n",
        "            valid_human_move = True\n",
        "            \n",
        "        state = apply_move(state, (human_move_color, 1)) #apply the human player move to the current state\n",
        "        print(\"Current state:\", state)\n",
        "\n",
        "    score = calculate_score(state)\n",
        "    if score > 0:\n",
        "        print(\"Human wins with a score of\", -score)\n",
        "    elif score < 0:\n",
        "        print(\"Computer wins with a score of\", score)\n",
        "    else:\n",
        "        print(\"It's a tie!\")\n",
        "\n",
        "play_game()"
      ],
      "metadata": {
        "colab": {
          "base_uri": "https://localhost:8080/"
        },
        "id": "4EmpQo5PNcvC",
        "outputId": "c1809cb7-c73c-416b-bbf4-39baa6b97dcc"
      },
      "execution_count": 3,
      "outputs": [
        {
          "output_type": "stream",
          "name": "stdout",
          "text": [
            "Starting state: {'red': 5, 'blue': 6}\n",
            "Computer's move: ('red', 1)\n",
            "Current state: {'red': 4, 'blue': 6}\n",
            "Which pile do you want to take a marble from? (red or blue)blue\n",
            "Current state: {'red': 4, 'blue': 5}\n",
            "Computer's move: ('red', 1)\n",
            "Current state: {'red': 3, 'blue': 5}\n",
            "Which pile do you want to take a marble from? (red or blue)blue\n",
            "Current state: {'red': 3, 'blue': 4}\n",
            "Computer's move: ('red', 1)\n",
            "Current state: {'red': 2, 'blue': 4}\n",
            "Which pile do you want to take a marble from? (red or blue)blue\n",
            "Current state: {'red': 2, 'blue': 3}\n",
            "Computer's move: ('blue', 1)\n",
            "Current state: {'red': 2, 'blue': 2}\n",
            "Which pile do you want to take a marble from? (red or blue)red\n",
            "Current state: {'red': 1, 'blue': 2}\n",
            "Computer's move: ('red', 1)\n",
            "Current state: {'red': 0, 'blue': 2}\n",
            "Human wins with a score of -6\n"
          ]
        }
      ]
    },
    {
      "cell_type": "code",
      "source": [
        "play_game()"
      ],
      "metadata": {
        "colab": {
          "base_uri": "https://localhost:8080/"
        },
        "id": "JJbAxerMnwlo",
        "outputId": "bb9ae189-ec24-4e45-aa99-16fddbe81d34"
      },
      "execution_count": 4,
      "outputs": [
        {
          "output_type": "stream",
          "name": "stdout",
          "text": [
            "Starting state: {'red': 5, 'blue': 6}\n",
            "Computer's move: ('red', 1)\n",
            "Current state: {'red': 4, 'blue': 6}\n",
            "Which pile do you want to take a marble from? (red or blue)red\n",
            "Current state: {'red': 3, 'blue': 6}\n",
            "Computer's move: ('red', 1)\n",
            "Current state: {'red': 2, 'blue': 6}\n",
            "Which pile do you want to take a marble from? (red or blue)blue\n",
            "Current state: {'red': 2, 'blue': 5}\n",
            "Computer's move: ('blue', 1)\n",
            "Current state: {'red': 2, 'blue': 4}\n",
            "Which pile do you want to take a marble from? (red or blue)blue\n",
            "Current state: {'red': 2, 'blue': 3}\n",
            "Computer's move: ('blue', 1)\n",
            "Current state: {'red': 2, 'blue': 2}\n",
            "Which pile do you want to take a marble from? (red or blue)red\n",
            "Current state: {'red': 1, 'blue': 2}\n",
            "Computer's move: ('red', 1)\n",
            "Current state: {'red': 0, 'blue': 2}\n",
            "Human wins with a score of -6\n"
          ]
        }
      ]
    }
  ]
}